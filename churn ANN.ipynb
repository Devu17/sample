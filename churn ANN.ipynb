{
  "nbformat": 4,
  "nbformat_minor": 0,
  "metadata": {
    "colab": {
      "name": "Untitled2.ipynb",
      "provenance": [],
      "authorship_tag": "ABX9TyPr6aC3fYo+yaJw1lHdbAuI",
      "include_colab_link": true
    },
    "kernelspec": {
      "name": "python3",
      "display_name": "Python 3"
    }
  },
  "cells": [
    {
      "cell_type": "markdown",
      "metadata": {
        "id": "view-in-github",
        "colab_type": "text"
      },
      "source": [
        "<a href=\"https://colab.research.google.com/github/Devu17/sample/blob/master/churn%20ANN.ipynb\" target=\"_parent\"><img src=\"https://colab.research.google.com/assets/colab-badge.svg\" alt=\"Open In Colab\"/></a>"
      ]
    },
    {
      "cell_type": "code",
      "metadata": {
        "id": "GWFn8pd9RMUj",
        "colab_type": "code",
        "colab": {}
      },
      "source": [
        "import numpy as np\n",
        "import matplotlib.pyplot as plt\n",
        "import pandas as pd"
      ],
      "execution_count": 0,
      "outputs": []
    },
    {
      "cell_type": "code",
      "metadata": {
        "id": "TTrxLKNORYPk",
        "colab_type": "code",
        "colab": {}
      },
      "source": [
        "data = pd.read_csv('WA_Fn-UseC_-Telco-Customer-Churn.csv')"
      ],
      "execution_count": 0,
      "outputs": []
    },
    {
      "cell_type": "code",
      "metadata": {
        "id": "TWmDngUDSAea",
        "colab_type": "code",
        "colab": {
          "base_uri": "https://localhost:8080/",
          "height": 309
        },
        "outputId": "11aa75f6-daeb-4db7-97a4-777735a6210a"
      },
      "source": [
        "data.head()"
      ],
      "execution_count": 7,
      "outputs": [
        {
          "output_type": "execute_result",
          "data": {
            "text/html": [
              "<div>\n",
              "<style scoped>\n",
              "    .dataframe tbody tr th:only-of-type {\n",
              "        vertical-align: middle;\n",
              "    }\n",
              "\n",
              "    .dataframe tbody tr th {\n",
              "        vertical-align: top;\n",
              "    }\n",
              "\n",
              "    .dataframe thead th {\n",
              "        text-align: right;\n",
              "    }\n",
              "</style>\n",
              "<table border=\"1\" class=\"dataframe\">\n",
              "  <thead>\n",
              "    <tr style=\"text-align: right;\">\n",
              "      <th></th>\n",
              "      <th>customerID</th>\n",
              "      <th>gender</th>\n",
              "      <th>SeniorCitizen</th>\n",
              "      <th>Partner</th>\n",
              "      <th>Dependents</th>\n",
              "      <th>tenure</th>\n",
              "      <th>PhoneService</th>\n",
              "      <th>MultipleLines</th>\n",
              "      <th>InternetService</th>\n",
              "      <th>OnlineSecurity</th>\n",
              "      <th>OnlineBackup</th>\n",
              "      <th>DeviceProtection</th>\n",
              "      <th>TechSupport</th>\n",
              "      <th>StreamingTV</th>\n",
              "      <th>StreamingMovies</th>\n",
              "      <th>Contract</th>\n",
              "      <th>PaperlessBilling</th>\n",
              "      <th>PaymentMethod</th>\n",
              "      <th>MonthlyCharges</th>\n",
              "      <th>TotalCharges</th>\n",
              "      <th>Churn</th>\n",
              "    </tr>\n",
              "  </thead>\n",
              "  <tbody>\n",
              "    <tr>\n",
              "      <th>0</th>\n",
              "      <td>7590-VHVEG</td>\n",
              "      <td>Female</td>\n",
              "      <td>0</td>\n",
              "      <td>Yes</td>\n",
              "      <td>No</td>\n",
              "      <td>1</td>\n",
              "      <td>No</td>\n",
              "      <td>No phone service</td>\n",
              "      <td>DSL</td>\n",
              "      <td>No</td>\n",
              "      <td>Yes</td>\n",
              "      <td>No</td>\n",
              "      <td>No</td>\n",
              "      <td>No</td>\n",
              "      <td>No</td>\n",
              "      <td>Month-to-month</td>\n",
              "      <td>Yes</td>\n",
              "      <td>Electronic check</td>\n",
              "      <td>29.85</td>\n",
              "      <td>29.85</td>\n",
              "      <td>No</td>\n",
              "    </tr>\n",
              "    <tr>\n",
              "      <th>1</th>\n",
              "      <td>5575-GNVDE</td>\n",
              "      <td>Male</td>\n",
              "      <td>0</td>\n",
              "      <td>No</td>\n",
              "      <td>No</td>\n",
              "      <td>34</td>\n",
              "      <td>Yes</td>\n",
              "      <td>No</td>\n",
              "      <td>DSL</td>\n",
              "      <td>Yes</td>\n",
              "      <td>No</td>\n",
              "      <td>Yes</td>\n",
              "      <td>No</td>\n",
              "      <td>No</td>\n",
              "      <td>No</td>\n",
              "      <td>One year</td>\n",
              "      <td>No</td>\n",
              "      <td>Mailed check</td>\n",
              "      <td>56.95</td>\n",
              "      <td>1889.5</td>\n",
              "      <td>No</td>\n",
              "    </tr>\n",
              "    <tr>\n",
              "      <th>2</th>\n",
              "      <td>3668-QPYBK</td>\n",
              "      <td>Male</td>\n",
              "      <td>0</td>\n",
              "      <td>No</td>\n",
              "      <td>No</td>\n",
              "      <td>2</td>\n",
              "      <td>Yes</td>\n",
              "      <td>No</td>\n",
              "      <td>DSL</td>\n",
              "      <td>Yes</td>\n",
              "      <td>Yes</td>\n",
              "      <td>No</td>\n",
              "      <td>No</td>\n",
              "      <td>No</td>\n",
              "      <td>No</td>\n",
              "      <td>Month-to-month</td>\n",
              "      <td>Yes</td>\n",
              "      <td>Mailed check</td>\n",
              "      <td>53.85</td>\n",
              "      <td>108.15</td>\n",
              "      <td>Yes</td>\n",
              "    </tr>\n",
              "    <tr>\n",
              "      <th>3</th>\n",
              "      <td>7795-CFOCW</td>\n",
              "      <td>Male</td>\n",
              "      <td>0</td>\n",
              "      <td>No</td>\n",
              "      <td>No</td>\n",
              "      <td>45</td>\n",
              "      <td>No</td>\n",
              "      <td>No phone service</td>\n",
              "      <td>DSL</td>\n",
              "      <td>Yes</td>\n",
              "      <td>No</td>\n",
              "      <td>Yes</td>\n",
              "      <td>Yes</td>\n",
              "      <td>No</td>\n",
              "      <td>No</td>\n",
              "      <td>One year</td>\n",
              "      <td>No</td>\n",
              "      <td>Bank transfer (automatic)</td>\n",
              "      <td>42.30</td>\n",
              "      <td>1840.75</td>\n",
              "      <td>No</td>\n",
              "    </tr>\n",
              "    <tr>\n",
              "      <th>4</th>\n",
              "      <td>9237-HQITU</td>\n",
              "      <td>Female</td>\n",
              "      <td>0</td>\n",
              "      <td>No</td>\n",
              "      <td>No</td>\n",
              "      <td>2</td>\n",
              "      <td>Yes</td>\n",
              "      <td>No</td>\n",
              "      <td>Fiber optic</td>\n",
              "      <td>No</td>\n",
              "      <td>No</td>\n",
              "      <td>No</td>\n",
              "      <td>No</td>\n",
              "      <td>No</td>\n",
              "      <td>No</td>\n",
              "      <td>Month-to-month</td>\n",
              "      <td>Yes</td>\n",
              "      <td>Electronic check</td>\n",
              "      <td>70.70</td>\n",
              "      <td>151.65</td>\n",
              "      <td>Yes</td>\n",
              "    </tr>\n",
              "  </tbody>\n",
              "</table>\n",
              "</div>"
            ],
            "text/plain": [
              "   customerID  gender  SeniorCitizen  ... MonthlyCharges TotalCharges  Churn\n",
              "0  7590-VHVEG  Female              0  ...          29.85        29.85     No\n",
              "1  5575-GNVDE    Male              0  ...          56.95       1889.5     No\n",
              "2  3668-QPYBK    Male              0  ...          53.85       108.15    Yes\n",
              "3  7795-CFOCW    Male              0  ...          42.30      1840.75     No\n",
              "4  9237-HQITU  Female              0  ...          70.70       151.65    Yes\n",
              "\n",
              "[5 rows x 21 columns]"
            ]
          },
          "metadata": {
            "tags": []
          },
          "execution_count": 7
        }
      ]
    },
    {
      "cell_type": "code",
      "metadata": {
        "id": "-hwaEEojSGLa",
        "colab_type": "code",
        "colab": {
          "base_uri": "https://localhost:8080/",
          "height": 391
        },
        "outputId": "a9c8a964-3d18-4864-a614-d792c96f3342"
      },
      "source": [
        "data.dtypes"
      ],
      "execution_count": 8,
      "outputs": [
        {
          "output_type": "execute_result",
          "data": {
            "text/plain": [
              "customerID           object\n",
              "gender               object\n",
              "SeniorCitizen         int64\n",
              "Partner              object\n",
              "Dependents           object\n",
              "tenure                int64\n",
              "PhoneService         object\n",
              "MultipleLines        object\n",
              "InternetService      object\n",
              "OnlineSecurity       object\n",
              "OnlineBackup         object\n",
              "DeviceProtection     object\n",
              "TechSupport          object\n",
              "StreamingTV          object\n",
              "StreamingMovies      object\n",
              "Contract             object\n",
              "PaperlessBilling     object\n",
              "PaymentMethod        object\n",
              "MonthlyCharges      float64\n",
              "TotalCharges         object\n",
              "Churn                object\n",
              "dtype: object"
            ]
          },
          "metadata": {
            "tags": []
          },
          "execution_count": 8
        }
      ]
    },
    {
      "cell_type": "code",
      "metadata": {
        "id": "Ufk9mTA0SLH6",
        "colab_type": "code",
        "colab": {}
      },
      "source": [
        "data[\"TotalCharges\"] = pd.to_numeric(data[\"TotalCharges\"],errors=\"coerce\")"
      ],
      "execution_count": 0,
      "outputs": []
    },
    {
      "cell_type": "code",
      "metadata": {
        "id": "jirVhRzVSO0R",
        "colab_type": "code",
        "colab": {
          "base_uri": "https://localhost:8080/",
          "height": 210
        },
        "outputId": "377e9c68-bede-41eb-b681-845ec5beb65a"
      },
      "source": [
        "summary = data.describe(include=[\"O\"])\n",
        "summary"
      ],
      "execution_count": 10,
      "outputs": [
        {
          "output_type": "execute_result",
          "data": {
            "text/html": [
              "<div>\n",
              "<style scoped>\n",
              "    .dataframe tbody tr th:only-of-type {\n",
              "        vertical-align: middle;\n",
              "    }\n",
              "\n",
              "    .dataframe tbody tr th {\n",
              "        vertical-align: top;\n",
              "    }\n",
              "\n",
              "    .dataframe thead th {\n",
              "        text-align: right;\n",
              "    }\n",
              "</style>\n",
              "<table border=\"1\" class=\"dataframe\">\n",
              "  <thead>\n",
              "    <tr style=\"text-align: right;\">\n",
              "      <th></th>\n",
              "      <th>customerID</th>\n",
              "      <th>gender</th>\n",
              "      <th>Partner</th>\n",
              "      <th>Dependents</th>\n",
              "      <th>PhoneService</th>\n",
              "      <th>MultipleLines</th>\n",
              "      <th>InternetService</th>\n",
              "      <th>OnlineSecurity</th>\n",
              "      <th>OnlineBackup</th>\n",
              "      <th>DeviceProtection</th>\n",
              "      <th>TechSupport</th>\n",
              "      <th>StreamingTV</th>\n",
              "      <th>StreamingMovies</th>\n",
              "      <th>Contract</th>\n",
              "      <th>PaperlessBilling</th>\n",
              "      <th>PaymentMethod</th>\n",
              "      <th>Churn</th>\n",
              "    </tr>\n",
              "  </thead>\n",
              "  <tbody>\n",
              "    <tr>\n",
              "      <th>count</th>\n",
              "      <td>7043</td>\n",
              "      <td>7043</td>\n",
              "      <td>7043</td>\n",
              "      <td>7043</td>\n",
              "      <td>7043</td>\n",
              "      <td>7043</td>\n",
              "      <td>7043</td>\n",
              "      <td>7043</td>\n",
              "      <td>7043</td>\n",
              "      <td>7043</td>\n",
              "      <td>7043</td>\n",
              "      <td>7043</td>\n",
              "      <td>7043</td>\n",
              "      <td>7043</td>\n",
              "      <td>7043</td>\n",
              "      <td>7043</td>\n",
              "      <td>7043</td>\n",
              "    </tr>\n",
              "    <tr>\n",
              "      <th>unique</th>\n",
              "      <td>7043</td>\n",
              "      <td>2</td>\n",
              "      <td>2</td>\n",
              "      <td>2</td>\n",
              "      <td>2</td>\n",
              "      <td>3</td>\n",
              "      <td>3</td>\n",
              "      <td>3</td>\n",
              "      <td>3</td>\n",
              "      <td>3</td>\n",
              "      <td>3</td>\n",
              "      <td>3</td>\n",
              "      <td>3</td>\n",
              "      <td>3</td>\n",
              "      <td>2</td>\n",
              "      <td>4</td>\n",
              "      <td>2</td>\n",
              "    </tr>\n",
              "    <tr>\n",
              "      <th>top</th>\n",
              "      <td>2868-SNELZ</td>\n",
              "      <td>Male</td>\n",
              "      <td>No</td>\n",
              "      <td>No</td>\n",
              "      <td>Yes</td>\n",
              "      <td>No</td>\n",
              "      <td>Fiber optic</td>\n",
              "      <td>No</td>\n",
              "      <td>No</td>\n",
              "      <td>No</td>\n",
              "      <td>No</td>\n",
              "      <td>No</td>\n",
              "      <td>No</td>\n",
              "      <td>Month-to-month</td>\n",
              "      <td>Yes</td>\n",
              "      <td>Electronic check</td>\n",
              "      <td>No</td>\n",
              "    </tr>\n",
              "    <tr>\n",
              "      <th>freq</th>\n",
              "      <td>1</td>\n",
              "      <td>3555</td>\n",
              "      <td>3641</td>\n",
              "      <td>4933</td>\n",
              "      <td>6361</td>\n",
              "      <td>3390</td>\n",
              "      <td>3096</td>\n",
              "      <td>3498</td>\n",
              "      <td>3088</td>\n",
              "      <td>3095</td>\n",
              "      <td>3473</td>\n",
              "      <td>2810</td>\n",
              "      <td>2785</td>\n",
              "      <td>3875</td>\n",
              "      <td>4171</td>\n",
              "      <td>2365</td>\n",
              "      <td>5174</td>\n",
              "    </tr>\n",
              "  </tbody>\n",
              "</table>\n",
              "</div>"
            ],
            "text/plain": [
              "        customerID gender Partner  ... PaperlessBilling     PaymentMethod Churn\n",
              "count         7043   7043    7043  ...             7043              7043  7043\n",
              "unique        7043      2       2  ...                2                 4     2\n",
              "top     2868-SNELZ   Male      No  ...              Yes  Electronic check    No\n",
              "freq             1   3555    3641  ...             4171              2365  5174\n",
              "\n",
              "[4 rows x 17 columns]"
            ]
          },
          "metadata": {
            "tags": []
          },
          "execution_count": 10
        }
      ]
    },
    {
      "cell_type": "code",
      "metadata": {
        "id": "pv2E1qCXSQaB",
        "colab_type": "code",
        "colab": {
          "base_uri": "https://localhost:8080/",
          "height": 391
        },
        "outputId": "bc00cff2-c44e-4f6e-940b-88533a3fddb2"
      },
      "source": [
        "data.isnull().sum()"
      ],
      "execution_count": 11,
      "outputs": [
        {
          "output_type": "execute_result",
          "data": {
            "text/plain": [
              "customerID           0\n",
              "gender               0\n",
              "SeniorCitizen        0\n",
              "Partner              0\n",
              "Dependents           0\n",
              "tenure               0\n",
              "PhoneService         0\n",
              "MultipleLines        0\n",
              "InternetService      0\n",
              "OnlineSecurity       0\n",
              "OnlineBackup         0\n",
              "DeviceProtection     0\n",
              "TechSupport          0\n",
              "StreamingTV          0\n",
              "StreamingMovies      0\n",
              "Contract             0\n",
              "PaperlessBilling     0\n",
              "PaymentMethod        0\n",
              "MonthlyCharges       0\n",
              "TotalCharges        11\n",
              "Churn                0\n",
              "dtype: int64"
            ]
          },
          "metadata": {
            "tags": []
          },
          "execution_count": 11
        }
      ]
    },
    {
      "cell_type": "code",
      "metadata": {
        "id": "Lx_oLFJtSXWX",
        "colab_type": "code",
        "colab": {}
      },
      "source": [
        "data.dropna(how=\"any\",inplace=True)"
      ],
      "execution_count": 0,
      "outputs": []
    },
    {
      "cell_type": "code",
      "metadata": {
        "id": "JWBJU9s_SaVF",
        "colab_type": "code",
        "colab": {
          "base_uri": "https://localhost:8080/",
          "height": 391
        },
        "outputId": "9c83dff6-4109-4cdc-ee86-4fdea2af8501"
      },
      "source": [
        "data.isnull().sum()"
      ],
      "execution_count": 13,
      "outputs": [
        {
          "output_type": "execute_result",
          "data": {
            "text/plain": [
              "customerID          0\n",
              "gender              0\n",
              "SeniorCitizen       0\n",
              "Partner             0\n",
              "Dependents          0\n",
              "tenure              0\n",
              "PhoneService        0\n",
              "MultipleLines       0\n",
              "InternetService     0\n",
              "OnlineSecurity      0\n",
              "OnlineBackup        0\n",
              "DeviceProtection    0\n",
              "TechSupport         0\n",
              "StreamingTV         0\n",
              "StreamingMovies     0\n",
              "Contract            0\n",
              "PaperlessBilling    0\n",
              "PaymentMethod       0\n",
              "MonthlyCharges      0\n",
              "TotalCharges        0\n",
              "Churn               0\n",
              "dtype: int64"
            ]
          },
          "metadata": {
            "tags": []
          },
          "execution_count": 13
        }
      ]
    },
    {
      "cell_type": "code",
      "metadata": {
        "id": "489IYNBHSbeG",
        "colab_type": "code",
        "colab": {}
      },
      "source": [
        "data_cont = ['tenure','MonthlyCharges', 'TotalCharges']\n",
        "data_cat = ['gender', 'SeniorCitizen', 'Partner', 'Dependents',\n",
        "            'PhoneService', 'MultipleLines', 'InternetService',\n",
        "            'OnlineSecurity', 'OnlineBackup', 'DeviceProtection',\n",
        "            'TechSupport','StreamingTV','StreamingMovies',\n",
        "            'Contract', 'PaperlessBilling','PaymentMethod']"
      ],
      "execution_count": 0,
      "outputs": []
    },
    {
      "cell_type": "code",
      "metadata": {
        "id": "erCN4bCBSfLd",
        "colab_type": "code",
        "colab": {}
      },
      "source": [
        "from sklearn.preprocessing import StandardScaler\n",
        "scaler = StandardScaler()\n",
        "data_continuous = scaler.fit_transform(data[data_cont])"
      ],
      "execution_count": 0,
      "outputs": []
    },
    {
      "cell_type": "code",
      "metadata": {
        "id": "TYMd9UyySizV",
        "colab_type": "code",
        "colab": {}
      },
      "source": [
        "from sklearn.preprocessing import LabelEncoder, OneHotEncoder\n",
        "for cols in data_cat:\n",
        "    data.loc[:,cols] = LabelEncoder().fit_transform(data.loc[:,cols])\n",
        "\n",
        "onehotencoder = OneHotEncoder(sparse=False)\n",
        "data_categorical = onehotencoder.fit_transform(data[data_cat])"
      ],
      "execution_count": 0,
      "outputs": []
    },
    {
      "cell_type": "code",
      "metadata": {
        "id": "2gy5DSS5SmQA",
        "colab_type": "code",
        "colab": {
          "base_uri": "https://localhost:8080/",
          "height": 309
        },
        "outputId": "0eb056f3-75e1-470c-e582-027e9b87df81"
      },
      "source": [
        "data.head()"
      ],
      "execution_count": 17,
      "outputs": [
        {
          "output_type": "execute_result",
          "data": {
            "text/html": [
              "<div>\n",
              "<style scoped>\n",
              "    .dataframe tbody tr th:only-of-type {\n",
              "        vertical-align: middle;\n",
              "    }\n",
              "\n",
              "    .dataframe tbody tr th {\n",
              "        vertical-align: top;\n",
              "    }\n",
              "\n",
              "    .dataframe thead th {\n",
              "        text-align: right;\n",
              "    }\n",
              "</style>\n",
              "<table border=\"1\" class=\"dataframe\">\n",
              "  <thead>\n",
              "    <tr style=\"text-align: right;\">\n",
              "      <th></th>\n",
              "      <th>customerID</th>\n",
              "      <th>gender</th>\n",
              "      <th>SeniorCitizen</th>\n",
              "      <th>Partner</th>\n",
              "      <th>Dependents</th>\n",
              "      <th>tenure</th>\n",
              "      <th>PhoneService</th>\n",
              "      <th>MultipleLines</th>\n",
              "      <th>InternetService</th>\n",
              "      <th>OnlineSecurity</th>\n",
              "      <th>OnlineBackup</th>\n",
              "      <th>DeviceProtection</th>\n",
              "      <th>TechSupport</th>\n",
              "      <th>StreamingTV</th>\n",
              "      <th>StreamingMovies</th>\n",
              "      <th>Contract</th>\n",
              "      <th>PaperlessBilling</th>\n",
              "      <th>PaymentMethod</th>\n",
              "      <th>MonthlyCharges</th>\n",
              "      <th>TotalCharges</th>\n",
              "      <th>Churn</th>\n",
              "    </tr>\n",
              "  </thead>\n",
              "  <tbody>\n",
              "    <tr>\n",
              "      <th>0</th>\n",
              "      <td>7590-VHVEG</td>\n",
              "      <td>0</td>\n",
              "      <td>0</td>\n",
              "      <td>1</td>\n",
              "      <td>0</td>\n",
              "      <td>1</td>\n",
              "      <td>0</td>\n",
              "      <td>1</td>\n",
              "      <td>0</td>\n",
              "      <td>0</td>\n",
              "      <td>2</td>\n",
              "      <td>0</td>\n",
              "      <td>0</td>\n",
              "      <td>0</td>\n",
              "      <td>0</td>\n",
              "      <td>0</td>\n",
              "      <td>1</td>\n",
              "      <td>2</td>\n",
              "      <td>29.85</td>\n",
              "      <td>29.85</td>\n",
              "      <td>No</td>\n",
              "    </tr>\n",
              "    <tr>\n",
              "      <th>1</th>\n",
              "      <td>5575-GNVDE</td>\n",
              "      <td>1</td>\n",
              "      <td>0</td>\n",
              "      <td>0</td>\n",
              "      <td>0</td>\n",
              "      <td>34</td>\n",
              "      <td>1</td>\n",
              "      <td>0</td>\n",
              "      <td>0</td>\n",
              "      <td>2</td>\n",
              "      <td>0</td>\n",
              "      <td>2</td>\n",
              "      <td>0</td>\n",
              "      <td>0</td>\n",
              "      <td>0</td>\n",
              "      <td>1</td>\n",
              "      <td>0</td>\n",
              "      <td>3</td>\n",
              "      <td>56.95</td>\n",
              "      <td>1889.50</td>\n",
              "      <td>No</td>\n",
              "    </tr>\n",
              "    <tr>\n",
              "      <th>2</th>\n",
              "      <td>3668-QPYBK</td>\n",
              "      <td>1</td>\n",
              "      <td>0</td>\n",
              "      <td>0</td>\n",
              "      <td>0</td>\n",
              "      <td>2</td>\n",
              "      <td>1</td>\n",
              "      <td>0</td>\n",
              "      <td>0</td>\n",
              "      <td>2</td>\n",
              "      <td>2</td>\n",
              "      <td>0</td>\n",
              "      <td>0</td>\n",
              "      <td>0</td>\n",
              "      <td>0</td>\n",
              "      <td>0</td>\n",
              "      <td>1</td>\n",
              "      <td>3</td>\n",
              "      <td>53.85</td>\n",
              "      <td>108.15</td>\n",
              "      <td>Yes</td>\n",
              "    </tr>\n",
              "    <tr>\n",
              "      <th>3</th>\n",
              "      <td>7795-CFOCW</td>\n",
              "      <td>1</td>\n",
              "      <td>0</td>\n",
              "      <td>0</td>\n",
              "      <td>0</td>\n",
              "      <td>45</td>\n",
              "      <td>0</td>\n",
              "      <td>1</td>\n",
              "      <td>0</td>\n",
              "      <td>2</td>\n",
              "      <td>0</td>\n",
              "      <td>2</td>\n",
              "      <td>2</td>\n",
              "      <td>0</td>\n",
              "      <td>0</td>\n",
              "      <td>1</td>\n",
              "      <td>0</td>\n",
              "      <td>0</td>\n",
              "      <td>42.30</td>\n",
              "      <td>1840.75</td>\n",
              "      <td>No</td>\n",
              "    </tr>\n",
              "    <tr>\n",
              "      <th>4</th>\n",
              "      <td>9237-HQITU</td>\n",
              "      <td>0</td>\n",
              "      <td>0</td>\n",
              "      <td>0</td>\n",
              "      <td>0</td>\n",
              "      <td>2</td>\n",
              "      <td>1</td>\n",
              "      <td>0</td>\n",
              "      <td>1</td>\n",
              "      <td>0</td>\n",
              "      <td>0</td>\n",
              "      <td>0</td>\n",
              "      <td>0</td>\n",
              "      <td>0</td>\n",
              "      <td>0</td>\n",
              "      <td>0</td>\n",
              "      <td>1</td>\n",
              "      <td>2</td>\n",
              "      <td>70.70</td>\n",
              "      <td>151.65</td>\n",
              "      <td>Yes</td>\n",
              "    </tr>\n",
              "  </tbody>\n",
              "</table>\n",
              "</div>"
            ],
            "text/plain": [
              "   customerID  gender  SeniorCitizen  ...  MonthlyCharges  TotalCharges  Churn\n",
              "0  7590-VHVEG       0              0  ...           29.85         29.85     No\n",
              "1  5575-GNVDE       1              0  ...           56.95       1889.50     No\n",
              "2  3668-QPYBK       1              0  ...           53.85        108.15    Yes\n",
              "3  7795-CFOCW       1              0  ...           42.30       1840.75     No\n",
              "4  9237-HQITU       0              0  ...           70.70        151.65    Yes\n",
              "\n",
              "[5 rows x 21 columns]"
            ]
          },
          "metadata": {
            "tags": []
          },
          "execution_count": 17
        }
      ]
    },
    {
      "cell_type": "code",
      "metadata": {
        "id": "ysybJyhQSqP8",
        "colab_type": "code",
        "colab": {}
      },
      "source": [
        "import warnings\n",
        "warnings.filterwarnings(\"ignore\")\n",
        "features = np.concatenate([data_continuous, data_categorical], axis=1)\n",
        "\n",
        "target = data.iloc[:,20:].values\n",
        "target = LabelEncoder().fit_transform(target)"
      ],
      "execution_count": 0,
      "outputs": []
    },
    {
      "cell_type": "code",
      "metadata": {
        "id": "lAVmjIFXSu6P",
        "colab_type": "code",
        "colab": {}
      },
      "source": [
        "from sklearn.model_selection import train_test_split\n",
        "X_train, X_test, y_train, y_test = train_test_split(features, target, test_size = 0.2, random_state = 0)"
      ],
      "execution_count": 0,
      "outputs": []
    },
    {
      "cell_type": "code",
      "metadata": {
        "id": "9M5aessiSyQE",
        "colab_type": "code",
        "colab": {}
      },
      "source": [
        "import keras\n",
        "from keras.wrappers.scikit_learn import KerasClassifier\n",
        "\n",
        "from sklearn.model_selection import GridSearchCV\n",
        "from sklearn.preprocessing import StandardScaler\n",
        "from sklearn.metrics import confusion_matrix,classification_report\n",
        "from keras.layers import BatchNormalization\n",
        "from keras.models import Sequential\n",
        "from keras.layers import Dropout\n",
        "from keras.layers import Dense"
      ],
      "execution_count": 0,
      "outputs": []
    },
    {
      "cell_type": "code",
      "metadata": {
        "id": "SbG6i8puS6an",
        "colab_type": "code",
        "colab": {}
      },
      "source": [
        "from keras.models import Sequential\n",
        "from keras.layers import Dense"
      ],
      "execution_count": 0,
      "outputs": []
    },
    {
      "cell_type": "code",
      "metadata": {
        "id": "bLA06pHATD5W",
        "colab_type": "code",
        "colab": {}
      },
      "source": [
        "classifier = Sequential()"
      ],
      "execution_count": 0,
      "outputs": []
    },
    {
      "cell_type": "code",
      "metadata": {
        "id": "ucgms9zzT4Ck",
        "colab_type": "code",
        "colab": {}
      },
      "source": [
        "from keras.layers.normalization import BatchNormalization\n",
        "classifier.add(Dense(output_dim = 6, init = 'uniform', activation = 'relu', input_dim = 46))\n",
        "classifier.add(BatchNormalization(axis=-1, momentum=0.99, epsilon=0.001, center=True, scale=True))"
      ],
      "execution_count": 0,
      "outputs": []
    },
    {
      "cell_type": "code",
      "metadata": {
        "id": "bL1Re1KKwjbo",
        "colab_type": "code",
        "colab": {}
      },
      "source": [
        "classifier.add(Dense(output_dim = 6, init = 'uniform', activation = 'relu'))\n",
        "classifier.add(BatchNormalization(axis=-1, momentum=0.99, epsilon=0.001, center=True, scale=True))"
      ],
      "execution_count": 0,
      "outputs": []
    },
    {
      "cell_type": "code",
      "metadata": {
        "id": "uh9u1iZFwpMv",
        "colab_type": "code",
        "colab": {}
      },
      "source": [
        "classifier.add(Dense(output_dim = 1, init = 'uniform', activation = 'sigmoid'))\n",
        "classifier.add(BatchNormalization(axis=-1, momentum=0.99, epsilon=0.001, center=True, scale=True))\n",
        "classifier.add(Dropout(0.2))"
      ],
      "execution_count": 0,
      "outputs": []
    },
    {
      "cell_type": "code",
      "metadata": {
        "id": "xuLvh9y9wyix",
        "colab_type": "code",
        "colab": {}
      },
      "source": [
        "classifier.compile(optimizer = 'adam', loss = 'binary_crossentropy', metrics = ['accuracy'])"
      ],
      "execution_count": 0,
      "outputs": []
    },
    {
      "cell_type": "code",
      "metadata": {
        "id": "Hys0K6EAw0Hh",
        "colab_type": "code",
        "colab": {
          "base_uri": "https://localhost:8080/",
          "height": 1000
        },
        "outputId": "a28f6897-fbf2-4581-d4ec-9966f5d9996a"
      },
      "source": [
        "classifier.fit(X_train, y_train, batch_size = 100, nb_epoch = 100)"
      ],
      "execution_count": 67,
      "outputs": [
        {
          "output_type": "stream",
          "text": [
            "Epoch 1/100\n",
            "5625/5625 [==============================] - 1s 158us/step - loss: 1.7851 - accuracy: 0.6411\n",
            "Epoch 2/100\n",
            "5625/5625 [==============================] - 0s 19us/step - loss: 1.4652 - accuracy: 0.5911\n",
            "Epoch 3/100\n",
            "5625/5625 [==============================] - 0s 20us/step - loss: 1.4121 - accuracy: 0.6100\n",
            "Epoch 4/100\n",
            "5625/5625 [==============================] - 0s 20us/step - loss: 1.3913 - accuracy: 0.6276\n",
            "Epoch 5/100\n",
            "5625/5625 [==============================] - 0s 20us/step - loss: 1.4112 - accuracy: 0.6196\n",
            "Epoch 6/100\n",
            "5625/5625 [==============================] - 0s 21us/step - loss: 1.3805 - accuracy: 0.6192\n",
            "Epoch 7/100\n",
            "5625/5625 [==============================] - 0s 20us/step - loss: 1.2746 - accuracy: 0.6327\n",
            "Epoch 8/100\n",
            "5625/5625 [==============================] - 0s 20us/step - loss: 1.3366 - accuracy: 0.6254\n",
            "Epoch 9/100\n",
            "5625/5625 [==============================] - 0s 20us/step - loss: 1.3868 - accuracy: 0.6292\n",
            "Epoch 10/100\n",
            "5625/5625 [==============================] - 0s 20us/step - loss: 1.3093 - accuracy: 0.6315\n",
            "Epoch 11/100\n",
            "5625/5625 [==============================] - 0s 20us/step - loss: 1.2426 - accuracy: 0.6281\n",
            "Epoch 12/100\n",
            "5625/5625 [==============================] - 0s 20us/step - loss: 1.3319 - accuracy: 0.6359\n",
            "Epoch 13/100\n",
            "5625/5625 [==============================] - 0s 20us/step - loss: 1.3273 - accuracy: 0.6423\n",
            "Epoch 14/100\n",
            "5625/5625 [==============================] - 0s 20us/step - loss: 1.4130 - accuracy: 0.5959\n",
            "Epoch 15/100\n",
            "5625/5625 [==============================] - 0s 22us/step - loss: 1.3424 - accuracy: 0.6059\n",
            "Epoch 16/100\n",
            "5625/5625 [==============================] - 0s 20us/step - loss: 1.3512 - accuracy: 0.6263\n",
            "Epoch 17/100\n",
            "5625/5625 [==============================] - 0s 20us/step - loss: 1.3931 - accuracy: 0.6231\n",
            "Epoch 18/100\n",
            "5625/5625 [==============================] - 0s 22us/step - loss: 1.3462 - accuracy: 0.6293\n",
            "Epoch 19/100\n",
            "5625/5625 [==============================] - 0s 22us/step - loss: 1.3923 - accuracy: 0.6254\n",
            "Epoch 20/100\n",
            "5625/5625 [==============================] - 0s 21us/step - loss: 1.2734 - accuracy: 0.6327\n",
            "Epoch 21/100\n",
            "5625/5625 [==============================] - 0s 20us/step - loss: 1.3057 - accuracy: 0.6354\n",
            "Epoch 22/100\n",
            "5625/5625 [==============================] - 0s 20us/step - loss: 1.3327 - accuracy: 0.6315\n",
            "Epoch 23/100\n",
            "5625/5625 [==============================] - 0s 20us/step - loss: 1.3492 - accuracy: 0.6320\n",
            "Epoch 24/100\n",
            "5625/5625 [==============================] - 0s 21us/step - loss: 1.3081 - accuracy: 0.6414\n",
            "Epoch 25/100\n",
            "5625/5625 [==============================] - 0s 20us/step - loss: 1.3708 - accuracy: 0.6361\n",
            "Epoch 26/100\n",
            "5625/5625 [==============================] - 0s 19us/step - loss: 1.4016 - accuracy: 0.6535\n",
            "Epoch 27/100\n",
            "5625/5625 [==============================] - 0s 20us/step - loss: 1.3597 - accuracy: 0.6631\n",
            "Epoch 28/100\n",
            "5625/5625 [==============================] - 0s 21us/step - loss: 1.3670 - accuracy: 0.6617\n",
            "Epoch 29/100\n",
            "5625/5625 [==============================] - 0s 25us/step - loss: 1.3342 - accuracy: 0.6628\n",
            "Epoch 30/100\n",
            "5625/5625 [==============================] - 0s 25us/step - loss: 1.3412 - accuracy: 0.6610\n",
            "Epoch 31/100\n",
            "5625/5625 [==============================] - 0s 24us/step - loss: 1.2683 - accuracy: 0.6599\n",
            "Epoch 32/100\n",
            "5625/5625 [==============================] - 0s 26us/step - loss: 1.3102 - accuracy: 0.6464\n",
            "Epoch 33/100\n",
            "5625/5625 [==============================] - 0s 25us/step - loss: 1.4870 - accuracy: 0.5797\n",
            "Epoch 34/100\n",
            "5625/5625 [==============================] - 0s 24us/step - loss: 1.3196 - accuracy: 0.6428\n",
            "Epoch 35/100\n",
            "5625/5625 [==============================] - 0s 21us/step - loss: 1.3077 - accuracy: 0.6373\n",
            "Epoch 36/100\n",
            "5625/5625 [==============================] - 0s 20us/step - loss: 1.3060 - accuracy: 0.6411\n",
            "Epoch 37/100\n",
            "5625/5625 [==============================] - 0s 20us/step - loss: 1.2530 - accuracy: 0.6469\n",
            "Epoch 38/100\n",
            "5625/5625 [==============================] - 0s 20us/step - loss: 1.2818 - accuracy: 0.6612\n",
            "Epoch 39/100\n",
            "5625/5625 [==============================] - 0s 24us/step - loss: 1.3069 - accuracy: 0.6544\n",
            "Epoch 40/100\n",
            "5625/5625 [==============================] - 0s 26us/step - loss: 1.3204 - accuracy: 0.6754\n",
            "Epoch 41/100\n",
            "5625/5625 [==============================] - 0s 25us/step - loss: 1.2233 - accuracy: 0.6940\n",
            "Epoch 42/100\n",
            "5625/5625 [==============================] - 0s 24us/step - loss: 1.2057 - accuracy: 0.6985\n",
            "Epoch 43/100\n",
            "5625/5625 [==============================] - 0s 21us/step - loss: 1.2355 - accuracy: 0.6942\n",
            "Epoch 44/100\n",
            "5625/5625 [==============================] - 0s 20us/step - loss: 1.2108 - accuracy: 0.6985\n",
            "Epoch 45/100\n",
            "5625/5625 [==============================] - 0s 20us/step - loss: 1.2834 - accuracy: 0.7232\n",
            "Epoch 46/100\n",
            "5625/5625 [==============================] - 0s 20us/step - loss: 1.1992 - accuracy: 0.6761\n",
            "Epoch 47/100\n",
            "5625/5625 [==============================] - 0s 20us/step - loss: 1.2373 - accuracy: 0.6964\n",
            "Epoch 48/100\n",
            "5625/5625 [==============================] - 0s 21us/step - loss: 1.2009 - accuracy: 0.7170\n",
            "Epoch 49/100\n",
            "5625/5625 [==============================] - 0s 20us/step - loss: 1.2388 - accuracy: 0.7221\n",
            "Epoch 50/100\n",
            "5625/5625 [==============================] - 0s 22us/step - loss: 1.1437 - accuracy: 0.7271\n",
            "Epoch 51/100\n",
            "5625/5625 [==============================] - 0s 20us/step - loss: 1.1533 - accuracy: 0.7200\n",
            "Epoch 52/100\n",
            "5625/5625 [==============================] - 0s 20us/step - loss: 1.1915 - accuracy: 0.7061\n",
            "Epoch 53/100\n",
            "5625/5625 [==============================] - 0s 20us/step - loss: 1.1728 - accuracy: 0.6972\n",
            "Epoch 54/100\n",
            "5625/5625 [==============================] - 0s 20us/step - loss: 1.1965 - accuracy: 0.7052\n",
            "Epoch 55/100\n",
            "5625/5625 [==============================] - 0s 20us/step - loss: 1.2011 - accuracy: 0.7001\n",
            "Epoch 56/100\n",
            "5625/5625 [==============================] - 0s 21us/step - loss: 1.0843 - accuracy: 0.7049\n",
            "Epoch 57/100\n",
            "5625/5625 [==============================] - 0s 21us/step - loss: 1.1271 - accuracy: 0.6997\n",
            "Epoch 58/100\n",
            "5625/5625 [==============================] - 0s 22us/step - loss: 1.2245 - accuracy: 0.6990\n",
            "Epoch 59/100\n",
            "5625/5625 [==============================] - 0s 24us/step - loss: 1.1806 - accuracy: 0.7052\n",
            "Epoch 60/100\n",
            "5625/5625 [==============================] - 0s 20us/step - loss: 1.1907 - accuracy: 0.6965\n",
            "Epoch 61/100\n",
            "5625/5625 [==============================] - 0s 20us/step - loss: 1.2429 - accuracy: 0.7132\n",
            "Epoch 62/100\n",
            "5625/5625 [==============================] - 0s 20us/step - loss: 1.2114 - accuracy: 0.6864\n",
            "Epoch 63/100\n",
            "5625/5625 [==============================] - 0s 22us/step - loss: 1.1612 - accuracy: 0.7093\n",
            "Epoch 64/100\n",
            "5625/5625 [==============================] - 0s 25us/step - loss: 1.1835 - accuracy: 0.6965\n",
            "Epoch 65/100\n",
            "5625/5625 [==============================] - 0s 26us/step - loss: 1.1678 - accuracy: 0.6996\n",
            "Epoch 66/100\n",
            "5625/5625 [==============================] - 0s 20us/step - loss: 1.1693 - accuracy: 0.6996\n",
            "Epoch 67/100\n",
            "5625/5625 [==============================] - 0s 20us/step - loss: 1.1947 - accuracy: 0.6916\n",
            "Epoch 68/100\n",
            "5625/5625 [==============================] - 0s 21us/step - loss: 1.1204 - accuracy: 0.7086\n",
            "Epoch 69/100\n",
            "5625/5625 [==============================] - 0s 19us/step - loss: 1.1695 - accuracy: 0.7004\n",
            "Epoch 70/100\n",
            "5625/5625 [==============================] - 0s 20us/step - loss: 1.1624 - accuracy: 0.6924\n",
            "Epoch 71/100\n",
            "5625/5625 [==============================] - 0s 20us/step - loss: 1.1493 - accuracy: 0.6841\n",
            "Epoch 72/100\n",
            "5625/5625 [==============================] - 0s 20us/step - loss: 1.1578 - accuracy: 0.6871\n",
            "Epoch 73/100\n",
            "5625/5625 [==============================] - 0s 20us/step - loss: 1.1508 - accuracy: 0.6873\n",
            "Epoch 74/100\n",
            "5625/5625 [==============================] - 0s 21us/step - loss: 1.1494 - accuracy: 0.6910\n",
            "Epoch 75/100\n",
            "5625/5625 [==============================] - 0s 20us/step - loss: 1.1513 - accuracy: 0.6814\n",
            "Epoch 76/100\n",
            "5625/5625 [==============================] - 0s 20us/step - loss: 1.2236 - accuracy: 0.6843\n",
            "Epoch 77/100\n",
            "5625/5625 [==============================] - 0s 20us/step - loss: 1.2078 - accuracy: 0.6937\n",
            "Epoch 78/100\n",
            "5625/5625 [==============================] - 0s 20us/step - loss: 1.1903 - accuracy: 0.6958\n",
            "Epoch 79/100\n",
            "5625/5625 [==============================] - 0s 20us/step - loss: 1.2029 - accuracy: 0.6882\n",
            "Epoch 80/100\n",
            "5625/5625 [==============================] - 0s 20us/step - loss: 1.1957 - accuracy: 0.6980\n",
            "Epoch 81/100\n",
            "5625/5625 [==============================] - 0s 20us/step - loss: 1.1255 - accuracy: 0.7122\n",
            "Epoch 82/100\n",
            "5625/5625 [==============================] - 0s 22us/step - loss: 1.2023 - accuracy: 0.7031\n",
            "Epoch 83/100\n",
            "5625/5625 [==============================] - 0s 21us/step - loss: 1.1705 - accuracy: 0.7010\n",
            "Epoch 84/100\n",
            "5625/5625 [==============================] - 0s 21us/step - loss: 1.1659 - accuracy: 0.7143\n",
            "Epoch 85/100\n",
            "5625/5625 [==============================] - 0s 22us/step - loss: 1.2228 - accuracy: 0.6747\n",
            "Epoch 86/100\n",
            "5625/5625 [==============================] - 0s 20us/step - loss: 1.2441 - accuracy: 0.6329\n",
            "Epoch 87/100\n",
            "5625/5625 [==============================] - 0s 23us/step - loss: 1.2938 - accuracy: 0.6500\n",
            "Epoch 88/100\n",
            "5625/5625 [==============================] - 0s 25us/step - loss: 1.2789 - accuracy: 0.6599\n",
            "Epoch 89/100\n",
            "5625/5625 [==============================] - 0s 25us/step - loss: 1.1719 - accuracy: 0.6716\n",
            "Epoch 90/100\n",
            "5625/5625 [==============================] - 0s 26us/step - loss: 1.2468 - accuracy: 0.6649\n",
            "Epoch 91/100\n",
            "5625/5625 [==============================] - 0s 23us/step - loss: 1.1375 - accuracy: 0.6750\n",
            "Epoch 92/100\n",
            "5625/5625 [==============================] - 0s 21us/step - loss: 1.3439 - accuracy: 0.6686\n",
            "Epoch 93/100\n",
            "5625/5625 [==============================] - 0s 20us/step - loss: 1.2590 - accuracy: 0.6805\n",
            "Epoch 94/100\n",
            "5625/5625 [==============================] - 0s 20us/step - loss: 1.2085 - accuracy: 0.6859\n",
            "Epoch 95/100\n",
            "5625/5625 [==============================] - 0s 19us/step - loss: 1.2584 - accuracy: 0.7017\n",
            "Epoch 96/100\n",
            "5625/5625 [==============================] - 0s 20us/step - loss: 1.1979 - accuracy: 0.6951\n",
            "Epoch 97/100\n",
            "5625/5625 [==============================] - 0s 20us/step - loss: 1.1815 - accuracy: 0.6999\n",
            "Epoch 98/100\n",
            "5625/5625 [==============================] - 0s 20us/step - loss: 1.1941 - accuracy: 0.6994\n",
            "Epoch 99/100\n",
            "5625/5625 [==============================] - 0s 21us/step - loss: 1.3418 - accuracy: 0.6686\n",
            "Epoch 100/100\n",
            "5625/5625 [==============================] - 0s 22us/step - loss: 1.2493 - accuracy: 0.6745\n"
          ],
          "name": "stdout"
        },
        {
          "output_type": "execute_result",
          "data": {
            "text/plain": [
              "<keras.callbacks.callbacks.History at 0x7f235732bb70>"
            ]
          },
          "metadata": {
            "tags": []
          },
          "execution_count": 67
        }
      ]
    },
    {
      "cell_type": "code",
      "metadata": {
        "id": "-xAOYdcKz_lS",
        "colab_type": "code",
        "colab": {}
      },
      "source": [
        "y_pred = classifier.predict(X_test)\n",
        "y_pred = (y_pred > 0.5)"
      ],
      "execution_count": 0,
      "outputs": []
    },
    {
      "cell_type": "code",
      "metadata": {
        "id": "LpTnPqOc0bAd",
        "colab_type": "code",
        "colab": {
          "base_uri": "https://localhost:8080/",
          "height": 170
        },
        "outputId": "6ff30c45-6a24-4430-fbdd-ff519d5d813a"
      },
      "source": [
        "print(classification_report(y_test,y_pred))"
      ],
      "execution_count": 71,
      "outputs": [
        {
          "output_type": "stream",
          "text": [
            "              precision    recall  f1-score   support\n",
            "\n",
            "           0       0.74      1.00      0.85      1038\n",
            "           1       0.00      0.00      0.00       369\n",
            "\n",
            "    accuracy                           0.74      1407\n",
            "   macro avg       0.37      0.50      0.42      1407\n",
            "weighted avg       0.54      0.74      0.63      1407\n",
            "\n"
          ],
          "name": "stdout"
        }
      ]
    },
    {
      "cell_type": "code",
      "metadata": {
        "id": "Qnt10WGj0Fho",
        "colab_type": "code",
        "colab": {
          "base_uri": "https://localhost:8080/",
          "height": 296
        },
        "outputId": "573559c9-6748-47f2-f84d-1ddebce3e7c6"
      },
      "source": [
        "import seaborn as sns\n",
        "cm = confusion_matrix(y_test, y_pred)\n",
        "sns.heatmap(cm.T,square=True, annot=True, fmt='d', cbar=False,xticklabels=['No','Yes'],yticklabels=['No','Yes'] )\n",
        "plt.xlabel('true label')\n",
        "plt.ylabel('predicted label')"
      ],
      "execution_count": 70,
      "outputs": [
        {
          "output_type": "execute_result",
          "data": {
            "text/plain": [
              "Text(91.68, 0.5, 'predicted label')"
            ]
          },
          "metadata": {
            "tags": []
          },
          "execution_count": 70
        },
        {
          "output_type": "display_data",
          "data": {
            "image/png": "[encoded data removed]",
            "text/plain": [
              "<Figure size 432x288 with 1 Axes>"
            ]
          },
          "metadata": {
            "tags": [],
            "needs_background": "light"
          }
        }
      ]
    }
  ]
}